{
 "cells": [
  {
   "cell_type": "markdown",
   "metadata": {},
   "source": [
    "# VIRTUAL PATIENT GENERATOR"
   ]
  },
  {
   "cell_type": "markdown",
   "metadata": {},
   "source": [
    "**INPUTS**:\n",
    "* *data/02_CIE_tokenized_info.xlsx*\n",
    "\n",
    "**OUTPUTS**:\n",
    "* *data/03_virtual_patients_db.xlsx*\n",
    "* *data/03_virtual_patients_cie_692,76.xlsx*\n",
    "\n",
    "**NOTAS**"
   ]
  },
  {
   "cell_type": "markdown",
   "metadata": {},
   "source": [
    "### Imports"
   ]
  },
  {
   "cell_type": "code",
   "execution_count": 1,
   "metadata": {},
   "outputs": [],
   "source": [
    "import yaml\n",
    "import random\n",
    "import pandas as pd"
   ]
  },
  {
   "cell_type": "markdown",
   "metadata": {},
   "source": [
    "## CONFIGURATION"
   ]
  },
  {
   "cell_type": "markdown",
   "metadata": {},
   "source": [
    "### Set config from yml file"
   ]
  },
  {
   "cell_type": "code",
   "execution_count": 2,
   "metadata": {},
   "outputs": [],
   "source": [
    "with open(\"config.yml\", \"r\") as ymlfile:\n",
    "    variables = yaml.load(ymlfile, Loader=yaml.FullLoader)\n",
    "    globals().update(variables[\"patient\"])\n",
    "    globals().update(variables[\"other\"])"
   ]
  },
  {
   "cell_type": "markdown",
   "metadata": {},
   "source": [
    "### Get data"
   ]
  },
  {
   "cell_type": "code",
   "execution_count": 3,
   "metadata": {},
   "outputs": [],
   "source": [
    "cie_data = pd.read_excel(\"data/02_CIE_tokenized_info.xlsx\")[[\"CIE\",\"TOKENIZED\",\"RISKWORDS\"]]\n",
    "\n",
    "cie_data['CIE'] = cie_data['CIE'].apply(str)\n",
    "cie_data.fillna('[]', inplace=True)\n",
    "\n",
    "cie_data['TOKENIZED'] = cie_data['TOKENIZED'].apply(eval)\n",
    "cie_data['RISKWORDS'] = cie_data['RISKWORDS'].apply(eval)\n",
    "\n",
    "def delete_risk_tokenized(df):\n",
    "    return [w for w in df['TOKENIZED'] if w not in df['RISKWORDS']]\n",
    "\n",
    "cie_data['NONRISKWORDS'] = cie_data.apply(delete_risk_tokenized, axis = 1)"
   ]
  },
  {
   "cell_type": "markdown",
   "metadata": {},
   "source": [
    "## FUNCTIONS"
   ]
  },
  {
   "cell_type": "code",
   "execution_count": 4,
   "metadata": {},
   "outputs": [],
   "source": [
    "def create_virtual_patient(cie):\n",
    "    risk = random.choices([1, 0], weights=[probability_risk, 1 - probability_risk], k=1)[0]\n",
    "    return {\n",
    "        \"CIE\": cie,\n",
    "        \"AGE\": random.randint(min_age, max_age),\n",
    "        \"SEX\": get_sex(cie),\n",
    "        \"RISK\": risk,\n",
    "        \"TEXT\": get_new_text(cie, risk),\n",
    "    }\n",
    "\n",
    "def get_sex(cie):\n",
    "    if cie in just_women:\n",
    "        return 'M'\n",
    "    elif cie in just_men:\n",
    "        return 'H'\n",
    "    return random.choices(['M', 'H'], weights=[probability_man, 1 - probability_man], k=1)[0]\n",
    "        \n",
    "\n",
    "#cie: str; risk: int(0,1)\n",
    "def get_new_text(cie, risk):\n",
    "    ordinary_words = cie_data.loc[cie_data['CIE'] == cie]['NONRISKWORDS'].iloc[0]\n",
    "    risk_words = cie_data.loc[cie_data['CIE'] == cie]['RISKWORDS'].iloc[0]\n",
    "    \n",
    "    text_length = random.randint(min_length, max_length)\n",
    "    number_risk_words = random.randint(risk, int(text_length/2) * risk) # admite repetición, no necesario min\n",
    "\n",
    "    text = random.choices(risk_words, k = number_risk_words)\n",
    "    text += random.choices(ordinary_words, k = text_length - number_risk_words)\n",
    "    \n",
    "    random.shuffle(text)\n",
    "    return \" \".join(map(str, text))\n",
    "\n",
    "def create_patients(cie): # Creates total_cases of one cie\n",
    "    virtual_patients = []\n",
    "    for i in range(total_cases):\n",
    "        virtual_patients.append(create_virtual_patient(cie))\n",
    "    return pd.DataFrame(virtual_patients)\n",
    "\n",
    "def create_df_patients(list_of_cies): # Creates total_cases of different cies and suffles\n",
    "    virtual_patients = pd.DataFrame()\n",
    "    for cie in list_of_cies:\n",
    "        virtual_patients = virtual_patients.append(create_patients(cie), ignore_index=True)\n",
    "    return virtual_patients.sample(frac=1)\n",
    "\n",
    "def get_cies_with_risk_words(): # Get list of CIEs that have list of tokenized risk words\n",
    "    return cie_data[cie_data.RISKWORDS.str.len() != 0][\"CIE\"].tolist()"
   ]
  },
  {
   "cell_type": "markdown",
   "metadata": {},
   "source": [
    "## CREATE VIRTUAL PATIENTS DATABASE"
   ]
  },
  {
   "cell_type": "code",
   "execution_count": 5,
   "metadata": {},
   "outputs": [],
   "source": [
    "create_df_patients(get_cies_with_risk_words()).to_excel(\"./data/03_virtual_patients_db.xlsx\", index=False)"
   ]
  },
  {
   "cell_type": "code",
   "execution_count": 7,
   "metadata": {},
   "outputs": [],
   "source": [
    "create_patients('692.76').to_excel(\"./data/03_virtual_patients_cie_692,76.xlsx\", index=False)"
   ]
  }
 ],
 "metadata": {
  "kernelspec": {
   "display_name": "Python 3",
   "language": "python",
   "name": "python3"
  },
  "language_info": {
   "codemirror_mode": {
    "name": "ipython",
    "version": 3
   },
   "file_extension": ".py",
   "mimetype": "text/x-python",
   "name": "python",
   "nbconvert_exporter": "python",
   "pygments_lexer": "ipython3",
   "version": "3.8.5"
  }
 },
 "nbformat": 4,
 "nbformat_minor": 4
}

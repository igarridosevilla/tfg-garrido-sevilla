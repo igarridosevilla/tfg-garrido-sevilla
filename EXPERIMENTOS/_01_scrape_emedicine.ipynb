{
 "cells": [
  {
   "cell_type": "markdown",
   "metadata": {},
   "source": [
    "# SCRAPE EMEDICINE"
   ]
  },
  {
   "cell_type": "markdown",
   "metadata": {},
   "source": [
    "**INPUTS**:\n",
    "* *data/00_CIE_emedicine.xlsx*\n",
    "\n",
    "**OUTPUTS**:\n",
    "* *data/01_CIE_emedicine_info.xlsx*\n",
    "\n",
    "**NOTAS**"
   ]
  },
  {
   "cell_type": "markdown",
   "metadata": {},
   "source": [
    "### Imports"
   ]
  },
  {
   "cell_type": "code",
   "execution_count": null,
   "metadata": {},
   "outputs": [],
   "source": [
    "import pandas as pd\n",
    "from bs4 import BeautifulSoup\n",
    "import re #regex\n",
    "import requests\n",
    "import time\n",
    "import random"
   ]
  },
  {
   "cell_type": "markdown",
   "metadata": {},
   "source": [
    "## CONFIGURATION"
   ]
  },
  {
   "cell_type": "markdown",
   "metadata": {},
   "source": [
    "### Get data"
   ]
  },
  {
   "cell_type": "code",
   "execution_count": null,
   "metadata": {},
   "outputs": [],
   "source": [
    "webs = pd.read_excel(\"data/00_CIE_emedicine.xlsx\")"
   ]
  },
  {
   "cell_type": "markdown",
   "metadata": {},
   "source": [
    "## FUNCTIONS"
   ]
  },
  {
   "cell_type": "code",
   "execution_count": null,
   "metadata": {},
   "outputs": [],
   "source": [
    "def trim_text(text):\n",
    "    return re.sub(\"\\n\\n+\", \"\\n\\n\", text).strip()\n",
    "\n",
    "def get_page(soup,content):\n",
    "    try:\n",
    "        text = soup.find(id=content).find(class_='refsection_content').text\n",
    "        return trim_text(text)\n",
    "    except:\n",
    "        try:\n",
    "            if content == 'content_b2':\n",
    "                div_b1 = soup.find(id='content_b1')\n",
    "                text = div_b1.find_next_sibling(\"div\").find(class_='refsection_content').text\n",
    "                return trim_text(text)\n",
    "        except:\n",
    "            return \"\"\n",
    "        return \"\"\n",
    "\n",
    "def get_online_info(row):\n",
    "    try:\n",
    "        web = row[\"WEB\"]\n",
    "        r = requests.get(web.replace('overview','clinical')) #Cambia la url al apartado de clinical\n",
    "        soup = BeautifulSoup(r.text, 'lxml')\n",
    "        time.sleep(random.randint(5,15))\n",
    "        return [get_page(soup,'content_b1'),get_page(soup,'content_b2')]\n",
    "    except:\n",
    "        return [\"\",\"\"]\n",
    "\n",
    "def get_offline_info(row):\n",
    "    try:\n",
    "        cie = str(row[\"CIE\"])\n",
    "        name = \"offline_data/\" + cie.replace('.',',') + \".txt\"\n",
    "        f = open(name, \"r\")\n",
    "        return f.read()\n",
    "    except:\n",
    "        return \"\"\n",
    "    \n",
    "def online_down(info):\n",
    "    return (info[0] == \"\") & (info[1] == \"\")"
   ]
  },
  {
   "cell_type": "markdown",
   "metadata": {},
   "source": [
    "## GET ONLINE/OFFLINE DATA"
   ]
  },
  {
   "cell_type": "code",
   "execution_count": null,
   "metadata": {},
   "outputs": [],
   "source": [
    "history = []\n",
    "examination = []\n",
    "global_info = []\n",
    "for index, row in webs.iterrows():\n",
    "    info = get_online_info(row)\n",
    "    history.append(info[0])\n",
    "    examination.append(info[1])\n",
    "    if online_down(info):\n",
    "        info = get_offline_info(row)\n",
    "        global_info.append(info)\n",
    "    else:\n",
    "        global_info.append(\"\")\n",
    "webs[\"HISTORY\"] = history\n",
    "webs[\"EXAMINATION\"] = examination\n",
    "webs[\"GLOBAL\"] = global_info"
   ]
  },
  {
   "cell_type": "markdown",
   "metadata": {},
   "source": [
    "## SAVE DATA"
   ]
  },
  {
   "cell_type": "code",
   "execution_count": null,
   "metadata": {},
   "outputs": [],
   "source": [
    "webs.to_excel(\"data/01_CIE_emedicine_info.xlsx\", index=False)"
   ]
  }
 ],
 "metadata": {
  "kernelspec": {
   "display_name": "Python 3",
   "language": "python",
   "name": "python3"
  },
  "language_info": {
   "codemirror_mode": {
    "name": "ipython",
    "version": 3
   },
   "file_extension": ".py",
   "mimetype": "text/x-python",
   "name": "python",
   "nbconvert_exporter": "python",
   "pygments_lexer": "ipython3",
   "version": "3.8.5"
  }
 },
 "nbformat": 4,
 "nbformat_minor": 4
}
